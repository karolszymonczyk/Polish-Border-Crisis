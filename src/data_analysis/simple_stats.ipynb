{
 "cells": [
  {
   "cell_type": "code",
   "execution_count": 1,
   "metadata": {},
   "outputs": [],
   "source": [
    "import pandas as pd\n",
    "import datetime\n",
    "import numpy as np\n",
    "from pandas_profiling import ProfileReport\n",
    "\n",
    "tweets = pd.read_json('../../data/tweets.jl', lines=True, dtype=False)\n",
    "users = pd.read_json('../../data/users.jl', lines=True, dtype=False)\n",
    "\n",
    "tweets['id'] = tweets['id_str']\n",
    "tweets = tweets.merge(users[['id_str', 'screen_name']], how='left', right_on='id_str', left_on='user_id_str').drop(columns=['id_str_x', 'id_str_y'])\n",
    "tweets = tweets.drop_duplicates(subset=['id'])\n",
    "\n",
    "tweets['full_text'] = tweets['full_text'].str.replace('\\n', ' ')"
   ]
  },
  {
   "cell_type": "markdown",
   "metadata": {},
   "source": [
    "### Tweets stats"
   ]
  },
  {
   "cell_type": "code",
   "execution_count": null,
   "metadata": {},
   "outputs": [],
   "source": [
    "tweets.describe()"
   ]
  },
  {
   "cell_type": "code",
   "execution_count": null,
   "metadata": {
    "pycharm": {
     "name": "#%%\n"
    }
   },
   "outputs": [],
   "source": [
    "tweets.reset_index(drop=True, inplace=True)\n",
    "profile = ProfileReport(tweets, title=\"Tweets Pandas Profiling Reports\")\n",
    "profile.to_file(\"./figures/tweets_profile.html\")\n",
    "profile.to_notebook_iframe()"
   ]
  },
  {
   "cell_type": "markdown",
   "metadata": {},
   "source": [
    "### Users stats"
   ]
  },
  {
   "cell_type": "code",
   "execution_count": null,
   "metadata": {},
   "outputs": [],
   "source": [
    "users.describe()"
   ]
  },
  {
   "cell_type": "code",
   "execution_count": null,
   "metadata": {},
   "outputs": [],
   "source": [
    "users.reset_index(drop=True, inplace=True)\n",
    "profile = ProfileReport(users, title=\"Users Pandas Profiling Reports\")\n",
    "profile.to_file(\"./figures/users_profile.html\")\n",
    "profile.to_notebook_iframe()"
   ]
  }
 ],
 "metadata": {
  "kernelspec": {
   "display_name": "Python 3.8.13 ('torch-test')",
   "language": "python",
   "name": "python3"
  },
  "language_info": {
   "codemirror_mode": {
    "name": "ipython",
    "version": 3
   },
   "file_extension": ".py",
   "mimetype": "text/x-python",
   "name": "python",
   "nbconvert_exporter": "python",
   "pygments_lexer": "ipython3",
   "version": "3.8.13"
  },
  "vscode": {
   "interpreter": {
    "hash": "a11bfedde2253f2098695356d82ab0bf0a24401fd3f71b210ff53282299135cb"
   }
  }
 },
 "nbformat": 4,
 "nbformat_minor": 1
}
