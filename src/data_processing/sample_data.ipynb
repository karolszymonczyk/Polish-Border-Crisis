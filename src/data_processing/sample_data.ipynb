{
 "cells": [
  {
   "cell_type": "code",
   "execution_count": 1,
   "metadata": {},
   "outputs": [],
   "source": [
    "import pandas as pd\n",
    "import numpy as np\n",
    "import datetime"
   ]
  },
  {
   "cell_type": "markdown",
   "metadata": {},
   "source": [
    "### Loading datasets\n",
    "\n",
    "Load and merge tweets and users datasets."
   ]
  },
  {
   "cell_type": "code",
   "execution_count": 2,
   "metadata": {},
   "outputs": [],
   "source": [
    "tweets = pd.read_json('../../data/tweets.jl', lines=True, dtype=False)\n",
    "users = pd.read_json('../../data/users.jl', lines=True, dtype=False)\n",
    "\n",
    "tweets['id'] = tweets['id_str']\n",
    "tweets = tweets.merge(users[['id_str', 'screen_name']], how='left', right_on='id_str', left_on='user_id_str').drop(columns=['id_str_x', 'id_str_y'])\n",
    "tweets = tweets.drop_duplicates(subset=['id'])\n",
    "\n",
    "tweets['full_text'] = tweets['full_text'].str.replace('\\n', ' ')"
   ]
  },
  {
   "cell_type": "markdown",
   "metadata": {},
   "source": [
    "Select only polish tweets since 01.08.2021 for annotation (exclude 'wieszwięcej')"
   ]
  },
  {
   "cell_type": "code",
   "execution_count": 3,
   "metadata": {},
   "outputs": [],
   "source": [
    "tweets_pl = tweets[tweets['lang'] == 'pl']\n",
    "tweets_pl = tweets_pl[tweets_pl['created_at'] > datetime.datetime(2021, 8, 1)]\n",
    "tweets_pl = tweets_pl[~tweets_pl['full_text'].str.contains('wieszwięcej')]"
   ]
  },
  {
   "cell_type": "markdown",
   "metadata": {},
   "source": [
    "### Media tweets\n",
    "\n",
    "Calculate how many tweets in the dataset are published by the most popular polish media websites."
   ]
  },
  {
   "cell_type": "code",
   "execution_count": 4,
   "metadata": {},
   "outputs": [
    {
     "data": {
      "text/plain": [
       "0.03128491620111732"
      ]
     },
     "execution_count": 4,
     "metadata": {},
     "output_type": "execute_result"
    }
   ],
   "source": [
    "media = [\"tvn24\", \"FaktyTVN\", \"tvp_info\", \"PolsatNewsPL\", \"wPolityce_pl\", \"OnetWiadomosci\", \"wirtualnapolska\", \"gazeta_wyborcza\", \"se_pl\", \"niezaleznapl\", \"gazetapl_news\", \"rzeczpospolita\", \"RMF24pl\", \"RadioZET_NEWS\", \"NewsweekPolska\", \"natematpl\", \"gazetaprawnapl\"]\n",
    "\n",
    "media_tweets = tweets_pl[tweets_pl['screen_name'].isin(media)]\n",
    "non_media_tweets = tweets_pl[~tweets_pl['screen_name'].isin(media)]\n",
    "media_tweets.shape[0]/tweets_pl.shape[0]"
   ]
  },
  {
   "cell_type": "markdown",
   "metadata": {},
   "source": [
    "### Tweets' distribution over months\n",
    "\n",
    "Analyse the distribution of tweets over the months to get representative distribution of each period."
   ]
  },
  {
   "cell_type": "code",
   "execution_count": 5,
   "metadata": {},
   "outputs": [],
   "source": [
    "def get_month_dist(df: pd.DataFrame, col: str) -> np.array:\n",
    "  month_df = df[[col]].groupby(df[col].dt.month).agg(count=(col, 'count')).reset_index()\n",
    "  month_count = month_df['count'].to_numpy()\n",
    "  percentage = month_count / month_count.sum()\n",
    "  \n",
    "  return percentage"
   ]
  },
  {
   "cell_type": "markdown",
   "metadata": {},
   "source": [
    "All polish tweets"
   ]
  },
  {
   "cell_type": "code",
   "execution_count": 6,
   "metadata": {},
   "outputs": [
    {
     "data": {
      "text/plain": [
       "array([0.24581006, 0.11731844, 0.13296089, 0.43910615, 0.06480447])"
      ]
     },
     "execution_count": 6,
     "metadata": {},
     "output_type": "execute_result"
    }
   ],
   "source": [
    "percentage = get_month_dist(tweets_pl, 'created_at')\n",
    "percentage"
   ]
  },
  {
   "cell_type": "markdown",
   "metadata": {},
   "source": [
    "Media polish tweets"
   ]
  },
  {
   "cell_type": "code",
   "execution_count": 7,
   "metadata": {},
   "outputs": [
    {
     "data": {
      "text/plain": [
       "array([0.24913495, 0.11764706, 0.1349481 , 0.43137255, 0.06689735])"
      ]
     },
     "execution_count": 7,
     "metadata": {},
     "output_type": "execute_result"
    }
   ],
   "source": [
    "percentage_non_media = get_month_dist(non_media_tweets, 'created_at')\n",
    "percentage_non_media"
   ]
  },
  {
   "cell_type": "markdown",
   "metadata": {},
   "source": [
    "Non-media polish tweets"
   ]
  },
  {
   "cell_type": "code",
   "execution_count": 8,
   "metadata": {},
   "outputs": [
    {
     "data": {
      "text/plain": [
       "array([0.14285714, 0.10714286, 0.07142857, 0.67857143])"
      ]
     },
     "execution_count": 8,
     "metadata": {},
     "output_type": "execute_result"
    }
   ],
   "source": [
    "percentage_media = get_month_dist(media_tweets, 'created_at')\n",
    "percentage_media"
   ]
  },
  {
   "cell_type": "markdown",
   "metadata": {},
   "source": [
    "The goal is to create labels for 2500 tweets. Although media tweets make up about 3% of the whole dataset, it's been decided that they'll make 10% of the training dataset."
   ]
  },
  {
   "cell_type": "code",
   "execution_count": 9,
   "metadata": {},
   "outputs": [],
   "source": [
    "def sample_from_df(df: pd.DataFrame, dist, month_start: int) -> pd.DataFrame:\n",
    "  new_df = pd.DataFrame()\n",
    "  month_end = min(12, month_start + len(dist) - 1)\n",
    "  for month in range(month_start, month_end + 1):\n",
    "    sample = df[df['created_at'].dt.month ==\n",
    "                month].sample(n=int(dist[month-month_start]))\n",
    "    new_df = pd.concat([new_df, sample])\n",
    "    \n",
    "  return new_df\n"
   ]
  },
  {
   "cell_type": "code",
   "execution_count": 10,
   "metadata": {},
   "outputs": [],
   "source": [
    "SAMPLE_SIZE = 2500\n",
    "START_MONTH = 8\n",
    "\n",
    "media_sample_df = sample_from_df(media_tweets, (percentage_media * 0.1 * SAMPLE_SIZE).round(), START_MONTH)\n",
    "non_media_sample_df = sample_from_df(non_media_tweets, (percentage_non_media * 0.9 * SAMPLE_SIZE).round(), START_MONTH)"
   ]
  },
  {
   "cell_type": "markdown",
   "metadata": {},
   "source": [
    "Sample and save data to file"
   ]
  },
  {
   "cell_type": "code",
   "execution_count": 11,
   "metadata": {},
   "outputs": [],
   "source": [
    "df_to_annotate = pd.concat([media_sample_df, non_media_sample_df])\n",
    "df_to_annotate['target'] = 'NA'\n",
    "df_to_annotate.to_csv('../../data/sample_to_annotate.tsv', sep='\\t', index=False, columns=['id', 'created_at', 'full_text', 'target'])"
   ]
  }
 ],
 "metadata": {
  "kernelspec": {
   "display_name": "Python 3.9.13 ('pbt')",
   "language": "python",
   "name": "python3"
  },
  "language_info": {
   "codemirror_mode": {
    "name": "ipython",
    "version": 3
   },
   "file_extension": ".py",
   "mimetype": "text/x-python",
   "name": "python",
   "nbconvert_exporter": "python",
   "pygments_lexer": "ipython3",
   "version": "3.9.13"
  },
  "orig_nbformat": 4,
  "vscode": {
   "interpreter": {
    "hash": "8566258371330c1d09de231c16888fd7e7ac26f810e6c5bb4d13b1b9fa48ceba"
   }
  }
 },
 "nbformat": 4,
 "nbformat_minor": 2
}
